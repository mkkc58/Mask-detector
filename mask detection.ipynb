{
 "cells": [
  {
   "cell_type": "code",
   "execution_count": 2,
   "metadata": {},
   "outputs": [],
   "source": [
    "# Import all necessary libraries\n",
    "\n",
    "import os\n",
    "import cv2\n",
    "import matplotlib.pyplot as plt\n",
    "from PIL import Image,ImageOps\n",
    "import matplotlib.image as mping\n",
    "from keras.preprocessing.image import img_to_array\n",
    "from keras.preprocessing.image import load_img\n",
    "import numpy as np\n",
    "from keras.utils.np_utils import to_categorical\n",
    "from sklearn.preprocessing import LabelBinarizer\n",
    "from sklearn.model_selection import train_test_split\n",
    "from keras.layers import Flatten, Dropout\n",
    "from keras.layers.convolutional import Conv2D, MaxPooling2D"
   ]
  },
  {
   "cell_type": "code",
   "execution_count": null,
   "metadata": {},
   "outputs": [],
   "source": [
    "# mask=r'C:\\Users\\z019130\\Desktop\\common doc\\mask detection\\dataset\\with_mask'\n",
    "# route=os.listdir(mask)"
   ]
  },
  {
   "cell_type": "code",
   "execution_count": null,
   "metadata": {},
   "outputs": [],
   "source": [
    "# with_mask=[]\n",
    "# for i in route:\n",
    "#     dir=os.path.join(mask,i)\n",
    "#     img=cv2.imread(dir)\n",
    "#     img=cv2.cvtColor(img,cv2.COLOR_BGR2GRAY)\n",
    "#     img=img_to_array(img)\n",
    "#     with_mask.append(img)"
   ]
  },
  {
   "cell_type": "code",
   "execution_count": 3,
   "metadata": {},
   "outputs": [
    {
     "name": "stderr",
     "output_type": "stream",
     "text": [
      "C:\\Users\\z019130\\AppData\\Local\\Continuum\\anaconda3\\lib\\site-packages\\PIL\\Image.py:974: UserWarning: Palette images with Transparency expressed in bytes should be converted to RGBA images\n",
      "  \"Palette images with Transparency expressed in bytes should be \"\n"
     ]
    }
   ],
   "source": [
    "# importing all images from drive\n",
    "DIRECTORY = r\"C:\\Users\\z019130\\Desktop\\common doc\\mask detection\\dataset\"\n",
    "\n",
    "# assigning labels to each image\n",
    "CATEGORIES = [\"with_mask\", \"without_mask\"]\n",
    "data = []\n",
    "labels = []\n",
    "\n",
    "# loop to run through all images\n",
    "for category in CATEGORIES:\n",
    "    path = os.path.join(DIRECTORY, category)\n",
    "    for img in os.listdir(path):\n",
    "        img_path = os.path.join(path, img)\n",
    "        \n",
    "#         converting to grey scale image\n",
    "        image=Image.open(img_path).convert('L')\n",
    "        image=image.resize((32,32))\n",
    "        \n",
    "#         converting image to numbers between 0 and 255\n",
    "        image=img_to_array(image)\n",
    "        data.append(image)\n",
    "        if category==\"with_mask\":\n",
    "            labels.append(1)\n",
    "        else:\n",
    "            labels.append(0)     "
   ]
  },
  {
   "cell_type": "code",
   "execution_count": 4,
   "metadata": {},
   "outputs": [],
   "source": [
    "data=np.array(data)"
   ]
  },
  {
   "cell_type": "code",
   "execution_count": 5,
   "metadata": {},
   "outputs": [
    {
     "data": {
      "text/plain": [
       "(3833, 32, 32, 1)"
      ]
     },
     "execution_count": 5,
     "metadata": {},
     "output_type": "execute_result"
    }
   ],
   "source": [
    "data.shape"
   ]
  },
  {
   "cell_type": "code",
   "execution_count": 6,
   "metadata": {},
   "outputs": [],
   "source": [
    "labels=np.array(labels)"
   ]
  },
  {
   "cell_type": "code",
   "execution_count": 7,
   "metadata": {},
   "outputs": [
    {
     "data": {
      "text/plain": [
       "array([1, 1, 1, ..., 0, 0, 0])"
      ]
     },
     "execution_count": 7,
     "metadata": {},
     "output_type": "execute_result"
    }
   ],
   "source": [
    "labels"
   ]
  },
  {
   "cell_type": "code",
   "execution_count": 8,
   "metadata": {},
   "outputs": [
    {
     "data": {
      "text/plain": [
       "(3833,)"
      ]
     },
     "execution_count": 8,
     "metadata": {},
     "output_type": "execute_result"
    }
   ],
   "source": [
    "labels.shape"
   ]
  },
  {
   "cell_type": "code",
   "execution_count": 9,
   "metadata": {},
   "outputs": [],
   "source": [
    "# splitting data into train and test( test being 20% of the data)\n",
    "x_train,x_test,y_train,y_test=train_test_split(data,labels,test_size=0.2)"
   ]
  },
  {
   "cell_type": "code",
   "execution_count": 10,
   "metadata": {},
   "outputs": [],
   "source": [
    "# converting in between 0 to 1\n",
    "x_train=x_train/255"
   ]
  },
  {
   "cell_type": "code",
   "execution_count": 11,
   "metadata": {},
   "outputs": [],
   "source": [
    "x_train=x_train.reshape(x_train.shape[0],32,32,1)"
   ]
  },
  {
   "cell_type": "code",
   "execution_count": 12,
   "metadata": {},
   "outputs": [
    {
     "data": {
      "text/plain": [
       "4"
      ]
     },
     "execution_count": 12,
     "metadata": {},
     "output_type": "execute_result"
    }
   ],
   "source": [
    "x_train.ndim"
   ]
  },
  {
   "cell_type": "code",
   "execution_count": 13,
   "metadata": {},
   "outputs": [
    {
     "data": {
      "text/plain": [
       "(3066, 32, 32, 1)"
      ]
     },
     "execution_count": 13,
     "metadata": {},
     "output_type": "execute_result"
    }
   ],
   "source": [
    "x_train.shape"
   ]
  },
  {
   "cell_type": "code",
   "execution_count": 14,
   "metadata": {},
   "outputs": [
    {
     "data": {
      "text/plain": [
       "(3066,)"
      ]
     },
     "execution_count": 14,
     "metadata": {},
     "output_type": "execute_result"
    }
   ],
   "source": [
    "y_train.shape"
   ]
  },
  {
   "cell_type": "code",
   "execution_count": 15,
   "metadata": {},
   "outputs": [],
   "source": [
    "# to increase the number of samples \n",
    "\n",
    "from keras.preprocessing.image import ImageDataGenerator\n",
    " \n",
    "datagen = ImageDataGenerator(width_shift_range=0.1,\n",
    "                            height_shift_range=0.1,\n",
    "                            zoom_range=0.2,\n",
    "                            shear_range=0.1,\n",
    "                            rotation_range=10)\n",
    "datagen.fit(x_train)\n",
    "batches = datagen.flow(x_train, y_train, batch_size = 15)\n",
    "X_batch, y_batch = next(batches)"
   ]
  },
  {
   "cell_type": "code",
   "execution_count": 16,
   "metadata": {
    "scrolled": false
   },
   "outputs": [],
   "source": [
    "from keras.models import Sequential\n",
    "from keras.layers import Dense\n",
    "from keras.optimizers import Adam"
   ]
  },
  {
   "cell_type": "code",
   "execution_count": 17,
   "metadata": {
    "scrolled": true
   },
   "outputs": [
    {
     "name": "stderr",
     "output_type": "stream",
     "text": [
      "C:\\Users\\z019130\\AppData\\Local\\Continuum\\anaconda3\\lib\\site-packages\\tensorflow\\python\\keras\\engine\\training.py:1844: UserWarning: `Model.fit_generator` is deprecated and will be removed in a future version. Please use `Model.fit`, which supports generators.\n",
      "  warnings.warn('`Model.fit_generator` is deprecated and '\n"
     ]
    },
    {
     "name": "stdout",
     "output_type": "stream",
     "text": [
      "Epoch 1/50\n",
      "10/10 [==============================] - 5s 281ms/step - loss: 0.6952 - accuracy: 0.4668\n",
      "Epoch 2/50\n",
      "10/10 [==============================] - 3s 299ms/step - loss: 0.6865 - accuracy: 0.5309\n",
      "Epoch 3/50\n",
      "10/10 [==============================] - 3s 284ms/step - loss: 0.6623 - accuracy: 0.5948\n",
      "Epoch 4/50\n",
      "10/10 [==============================] - 3s 286ms/step - loss: 0.6533 - accuracy: 0.6283\n",
      "Epoch 5/50\n",
      "10/10 [==============================] - 3s 289ms/step - loss: 0.6362 - accuracy: 0.5485\n",
      "Epoch 6/50\n",
      "10/10 [==============================] - 3s 277ms/step - loss: 0.5719 - accuracy: 0.6950\n",
      "Epoch 7/50\n",
      "10/10 [==============================] - 3s 295ms/step - loss: 0.5495 - accuracy: 0.7119\n",
      "Epoch 8/50\n",
      "10/10 [==============================] - 3s 264ms/step - loss: 0.5080 - accuracy: 0.7709\n",
      "Epoch 9/50\n",
      "10/10 [==============================] - 3s 286ms/step - loss: 0.5206 - accuracy: 0.7589\n",
      "Epoch 10/50\n",
      "10/10 [==============================] - 3s 281ms/step - loss: 0.5629 - accuracy: 0.6987\n",
      "Epoch 11/50\n",
      "10/10 [==============================] - 3s 286ms/step - loss: 0.5449 - accuracy: 0.7227\n",
      "Epoch 12/50\n",
      "10/10 [==============================] - 3s 279ms/step - loss: 0.5173 - accuracy: 0.7311\n",
      "Epoch 13/50\n",
      "10/10 [==============================] - 3s 285ms/step - loss: 0.4838 - accuracy: 0.7707\n",
      "Epoch 14/50\n",
      "10/10 [==============================] - 3s 278ms/step - loss: 0.4432 - accuracy: 0.7757\n",
      "Epoch 15/50\n",
      "10/10 [==============================] - 3s 291ms/step - loss: 0.4724 - accuracy: 0.7820\n",
      "Epoch 16/50\n",
      "10/10 [==============================] - 3s 267ms/step - loss: 0.4532 - accuracy: 0.7583\n",
      "Epoch 17/50\n",
      "10/10 [==============================] - 3s 268ms/step - loss: 0.5002 - accuracy: 0.7272\n",
      "Epoch 18/50\n",
      "10/10 [==============================] - 3s 275ms/step - loss: 0.4535 - accuracy: 0.7780\n",
      "Epoch 19/50\n",
      "10/10 [==============================] - 3s 257ms/step - loss: 0.4475 - accuracy: 0.8023\n",
      "Epoch 20/50\n",
      "10/10 [==============================] - 3s 278ms/step - loss: 0.4004 - accuracy: 0.8098\n",
      "Epoch 21/50\n",
      "10/10 [==============================] - 3s 289ms/step - loss: 0.4337 - accuracy: 0.7972\n",
      "Epoch 22/50\n",
      "10/10 [==============================] - 3s 280ms/step - loss: 0.3987 - accuracy: 0.8230\n",
      "Epoch 23/50\n",
      "10/10 [==============================] - 3s 279ms/step - loss: 0.4374 - accuracy: 0.7862\n",
      "Epoch 24/50\n",
      "10/10 [==============================] - 3s 277ms/step - loss: 0.4094 - accuracy: 0.8148\n",
      "Epoch 25/50\n",
      "10/10 [==============================] - 3s 278ms/step - loss: 0.4227 - accuracy: 0.7854\n",
      "Epoch 26/50\n",
      "10/10 [==============================] - 3s 280ms/step - loss: 0.3630 - accuracy: 0.8567\n",
      "Epoch 27/50\n",
      "10/10 [==============================] - 3s 285ms/step - loss: 0.4321 - accuracy: 0.7849\n",
      "Epoch 28/50\n",
      "10/10 [==============================] - 3s 276ms/step - loss: 0.4623 - accuracy: 0.7861\n",
      "Epoch 29/50\n",
      "10/10 [==============================] - 3s 258ms/step - loss: 0.4665 - accuracy: 0.7607\n",
      "Epoch 30/50\n",
      "10/10 [==============================] - 3s 280ms/step - loss: 0.4419 - accuracy: 0.7806\n",
      "Epoch 31/50\n",
      "10/10 [==============================] - 3s 283ms/step - loss: 0.3906 - accuracy: 0.8171\n",
      "Epoch 32/50\n",
      "10/10 [==============================] - 3s 280ms/step - loss: 0.3427 - accuracy: 0.8513\n",
      "Epoch 33/50\n",
      "10/10 [==============================] - 3s 278ms/step - loss: 0.4675 - accuracy: 0.7755\n",
      "Epoch 34/50\n",
      "10/10 [==============================] - 3s 284ms/step - loss: 0.4132 - accuracy: 0.8058\n",
      "Epoch 35/50\n",
      "10/10 [==============================] - 3s 280ms/step - loss: 0.3809 - accuracy: 0.8181\n",
      "Epoch 36/50\n",
      "10/10 [==============================] - 3s 287ms/step - loss: 0.3650 - accuracy: 0.8498\n",
      "Epoch 37/50\n",
      "10/10 [==============================] - 3s 298ms/step - loss: 0.3906 - accuracy: 0.8143\n",
      "Epoch 38/50\n",
      "10/10 [==============================] - 3s 289ms/step - loss: 0.3445 - accuracy: 0.8397\n",
      "Epoch 39/50\n",
      "10/10 [==============================] - 3s 277ms/step - loss: 0.3674 - accuracy: 0.8496\n",
      "Epoch 40/50\n",
      "10/10 [==============================] - 3s 278ms/step - loss: 0.4005 - accuracy: 0.7850\n",
      "Epoch 41/50\n",
      "10/10 [==============================] - 3s 282ms/step - loss: 0.4323 - accuracy: 0.7788\n",
      "Epoch 42/50\n",
      "10/10 [==============================] - 3s 278ms/step - loss: 0.3865 - accuracy: 0.8353\n",
      "Epoch 43/50\n",
      "10/10 [==============================] - 3s 263ms/step - loss: 0.3744 - accuracy: 0.8486\n",
      "Epoch 44/50\n",
      "10/10 [==============================] - 3s 291ms/step - loss: 0.3529 - accuracy: 0.8383\n",
      "Epoch 45/50\n",
      "10/10 [==============================] - 3s 278ms/step - loss: 0.3743 - accuracy: 0.8421\n",
      "Epoch 46/50\n",
      "10/10 [==============================] - 3s 277ms/step - loss: 0.3368 - accuracy: 0.8540\n",
      "Epoch 47/50\n",
      "10/10 [==============================] - 3s 286ms/step - loss: 0.3272 - accuracy: 0.8661\n",
      "Epoch 48/50\n",
      "10/10 [==============================] - 3s 284ms/step - loss: 0.3816 - accuracy: 0.8125\n",
      "Epoch 49/50\n",
      "10/10 [==============================] - 3s 281ms/step - loss: 0.3326 - accuracy: 0.8714\n",
      "Epoch 50/50\n",
      "10/10 [==============================] - 3s 276ms/step - loss: 0.2872 - accuracy: 0.8758\n"
     ]
    }
   ],
   "source": [
    "# implementing convolutional neural networks\n",
    "\n",
    "model = Sequential()\n",
    "model.add(Conv2D(60, (5, 5), input_shape=(32, 32, 1), activation='relu'))\n",
    "model.add(Conv2D(60, (5, 5), activation='relu'))\n",
    "model.add(MaxPooling2D(pool_size=(2, 2)))\n",
    "\n",
    "model.add(Conv2D(30, (3, 3), activation='relu'))\n",
    "model.add(Conv2D(30, (3, 3), activation='relu'))\n",
    "model.add(MaxPooling2D(pool_size=(2, 2)))\n",
    "\n",
    "model.add(Flatten())\n",
    "model.add(Dense(500, activation='relu'))\n",
    "model.add(Dropout(0.5))\n",
    "model.add(Dense(1, activation='sigmoid'))\n",
    "\n",
    "model.compile(Adam(lr = 0.001), loss='binary_crossentropy', metrics=['accuracy'])\n",
    "history = model.fit_generator(datagen.flow(x_train, y_train, batch_size=50),\n",
    "                            steps_per_epoch=10,\n",
    "                            epochs=50,\n",
    "                            shuffle = 1)\n"
   ]
  },
  {
   "cell_type": "code",
   "execution_count": 18,
   "metadata": {},
   "outputs": [
    {
     "data": {
      "text/plain": [
       "[<matplotlib.lines.Line2D at 0x240abd6d3c8>]"
      ]
     },
     "execution_count": 18,
     "metadata": {},
     "output_type": "execute_result"
    },
    {
     "data": {
      "image/png": "[encoded data removed]",
      "text/plain": [
       "<Figure size 432x288 with 1 Axes>"
      ]
     },
     "metadata": {},
     "output_type": "display_data"
    }
   ],
   "source": [
    "plt.plot(history.history['loss'])\n",
    "plt.plot(history.history['accuracy'])"
   ]
  },
  {
   "cell_type": "code",
   "execution_count": 20,
   "metadata": {},
   "outputs": [
    {
     "name": "stdout",
     "output_type": "stream",
     "text": [
      "Model: \"sequential\"\n",
      "_________________________________________________________________\n",
      "Layer (type)                 Output Shape              Param #   \n",
      "=================================================================\n",
      "conv2d (Conv2D)              (None, 28, 28, 60)        1560      \n",
      "_________________________________________________________________\n",
      "conv2d_1 (Conv2D)            (None, 24, 24, 60)        90060     \n",
      "_________________________________________________________________\n",
      "max_pooling2d (MaxPooling2D) (None, 12, 12, 60)        0         \n",
      "_________________________________________________________________\n",
      "conv2d_2 (Conv2D)            (None, 10, 10, 30)        16230     \n",
      "_________________________________________________________________\n",
      "conv2d_3 (Conv2D)            (None, 8, 8, 30)          8130      \n",
      "_________________________________________________________________\n",
      "max_pooling2d_1 (MaxPooling2 (None, 4, 4, 30)          0         \n",
      "_________________________________________________________________\n",
      "flatten (Flatten)            (None, 480)               0         \n",
      "_________________________________________________________________\n",
      "dense (Dense)                (None, 500)               240500    \n",
      "_________________________________________________________________\n",
      "dropout (Dropout)            (None, 500)               0         \n",
      "_________________________________________________________________\n",
      "dense_1 (Dense)              (None, 1)                 501       \n",
      "=================================================================\n",
      "Total params: 356,981\n",
      "Trainable params: 356,981\n",
      "Non-trainable params: 0\n",
      "_________________________________________________________________\n",
      "None\n"
     ]
    }
   ],
   "source": [
    "print(model.summary())"
   ]
  },
  {
   "cell_type": "code",
   "execution_count": 21,
   "metadata": {},
   "outputs": [],
   "source": [
    "# predicting one sample image \n",
    "def predict_image(img):\n",
    "    plt.imshow(img)\n",
    "    img=img/255\n",
    "    img=img.reshape(1,32,32,1)\n",
    "    x=model.predict_classes(img)\n",
    "    if x==1:\n",
    "        return \"with mask\"\n",
    "    return 'without mask'\n",
    "#     return x"
   ]
  },
  {
   "cell_type": "code",
   "execution_count": 25,
   "metadata": {},
   "outputs": [
    {
     "name": "stderr",
     "output_type": "stream",
     "text": [
      "C:\\Users\\z019130\\AppData\\Local\\Continuum\\anaconda3\\lib\\site-packages\\tensorflow\\python\\keras\\engine\\sequential.py:450: UserWarning: `model.predict_classes()` is deprecated and will be removed after 2021-01-01. Please use instead:* `np.argmax(model.predict(x), axis=-1)`,   if your model does multi-class classification   (e.g. if it uses a `softmax` last-layer activation).* `(model.predict(x) > 0.5).astype(\"int32\")`,   if your model does binary classification   (e.g. if it uses a `sigmoid` last-layer activation).\n",
      "  warnings.warn('`model.predict_classes()` is deprecated and '\n"
     ]
    },
    {
     "name": "stdout",
     "output_type": "stream",
     "text": [
      "without mask\n"
     ]
    },
    {
     "data": {
      "image/png": "[encoded data removed]",
      "text/plain": [
       "<Figure size 432x288 with 1 Axes>"
      ]
     },
     "metadata": {},
     "output_type": "display_data"
    }
   ],
   "source": [
    "print(predict_image(x_test[700]))"
   ]
  },
  {
   "cell_type": "code",
   "execution_count": 26,
   "metadata": {},
   "outputs": [
    {
     "data": {
      "text/plain": [
       "(767, 32, 32, 1)"
      ]
     },
     "execution_count": 26,
     "metadata": {},
     "output_type": "execute_result"
    }
   ],
   "source": [
    "x_test.shape"
   ]
  },
  {
   "cell_type": "code",
   "execution_count": 32,
   "metadata": {},
   "outputs": [
    {
     "name": "stderr",
     "output_type": "stream",
     "text": [
      "C:\\Users\\z019130\\AppData\\Local\\Continuum\\anaconda3\\lib\\site-packages\\tensorflow\\python\\keras\\engine\\sequential.py:450: UserWarning: `model.predict_classes()` is deprecated and will be removed after 2021-01-01. Please use instead:* `np.argmax(model.predict(x), axis=-1)`,   if your model does multi-class classification   (e.g. if it uses a `softmax` last-layer activation).* `(model.predict(x) > 0.5).astype(\"int32\")`,   if your model does binary classification   (e.g. if it uses a `sigmoid` last-layer activation).\n",
      "  warnings.warn('`model.predict_classes()` is deprecated and '\n"
     ]
    }
   ],
   "source": [
    "from sklearn.metrics import confusion_matrix\n",
    "from sklearn.metrics import accuracy_score\n",
    "y_pred=[]\n",
    "for i in x_test:\n",
    "    i=i/255\n",
    "    i=i.reshape(1,32,32,1)\n",
    "    y_pred.append(model.predict_classes(i))\n",
    "#     test_accuracy=accuracy_score(y_test,y_pred)"
   ]
  },
  {
   "cell_type": "code",
   "execution_count": 33,
   "metadata": {},
   "outputs": [],
   "source": [
    "y_pred=np.array(y_pred)"
   ]
  },
  {
   "cell_type": "code",
   "execution_count": 34,
   "metadata": {},
   "outputs": [
    {
     "data": {
      "text/plain": [
       "(767, 1, 1)"
      ]
     },
     "execution_count": 34,
     "metadata": {},
     "output_type": "execute_result"
    }
   ],
   "source": [
    "y_pred.shape"
   ]
  },
  {
   "cell_type": "code",
   "execution_count": 47,
   "metadata": {},
   "outputs": [],
   "source": [
    "y_test=y_test.reshape(y_test.shape[0])\n",
    "y_pred=y_pred.reshape(y_pred.shape[0])"
   ]
  },
  {
   "cell_type": "code",
   "execution_count": 48,
   "metadata": {},
   "outputs": [
    {
     "data": {
      "text/plain": [
       "(767,)"
      ]
     },
     "execution_count": 48,
     "metadata": {},
     "output_type": "execute_result"
    }
   ],
   "source": [
    "y_test.shape"
   ]
  },
  {
   "cell_type": "code",
   "execution_count": 50,
   "metadata": {},
   "outputs": [],
   "source": [
    "test_accuracy=accuracy_score(y_test,y_pred)"
   ]
  },
  {
   "cell_type": "code",
   "execution_count": 53,
   "metadata": {},
   "outputs": [
    {
     "name": "stdout",
     "output_type": "stream",
     "text": [
      "test accuracy:  0.8683181225554107\n"
     ]
    }
   ],
   "source": [
    "print(\"test accuracy: \",test_accuracy)"
   ]
  },
  {
   "cell_type": "code",
   "execution_count": 56,
   "metadata": {},
   "outputs": [
    {
     "name": "stdout",
     "output_type": "stream",
     "text": [
      "confusion matrix\n",
      "[[333  66]\n",
      " [ 35 333]]\n"
     ]
    }
   ],
   "source": [
    "print(\"confusion matrix\")\n",
    "print(confusion_matrix(y_test,y_pred))"
   ]
  },
  {
   "cell_type": "code",
   "execution_count": null,
   "metadata": {},
   "outputs": [],
   "source": []
  }
 ],
 "metadata": {
  "kernelspec": {
   "display_name": "Python 3",
   "language": "python",
   "name": "python3"
  },
  "language_info": {
   "codemirror_mode": {
    "name": "ipython",
    "version": 3
   },
   "file_extension": ".py",
   "mimetype": "text/x-python",
   "name": "python",
   "nbconvert_exporter": "python",
   "pygments_lexer": "ipython3",
   "version": "3.6.5"
  }
 },
 "nbformat": 4,
 "nbformat_minor": 2
}
